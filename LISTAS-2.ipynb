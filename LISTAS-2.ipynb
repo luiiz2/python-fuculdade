{
 "cells": [
  {
   "cell_type": "code",
   "execution_count": null,
   "metadata": {},
   "outputs": [],
   "source": [
    "#1"
   ]
  },
  {
   "cell_type": "code",
   "execution_count": 1,
   "metadata": {},
   "outputs": [
    {
     "name": "stdout",
     "output_type": "stream",
     "text": [
      "[3, 4, 3, 2, 34]\n"
     ]
    }
   ],
   "source": [
    "lista = []\n",
    "for i in range(5):\n",
    "    numero = int(input(\"digite um número: \"))\n",
    "    lista.append(numero)\n",
    "print(lista)"
   ]
  },
  {
   "cell_type": "code",
   "execution_count": null,
   "metadata": {},
   "outputs": [],
   "source": [
    "#2"
   ]
  },
  {
   "cell_type": "code",
   "execution_count": 5,
   "metadata": {},
   "outputs": [
    {
     "name": "stdout",
     "output_type": "stream",
     "text": [
      "[4, 3, 2, 1]\n"
     ]
    }
   ],
   "source": [
    "lista = []\n",
    "for i in range(10):\n",
    "    numero = int(input(\"digite um número: \"))\n",
    "    lista.append(numero)\n",
    "lista.reverse()\n",
    "print(lista)"
   ]
  },
  {
   "cell_type": "code",
   "execution_count": null,
   "metadata": {},
   "outputs": [],
   "source": [
    "#3"
   ]
  },
  {
   "cell_type": "code",
   "execution_count": 13,
   "metadata": {},
   "outputs": [
    {
     "name": "stdout",
     "output_type": "stream",
     "text": [
      "[10, 10, 10, 10]\n",
      "10.0\n"
     ]
    }
   ],
   "source": [
    "total = 0\n",
    "lista = []\n",
    "for i in range(40):\n",
    "    numero = int(input(\"digite um número: \"))\n",
    "    total += numero  \n",
    "    lista.append(numero)\n",
    "media = total / 40\n",
    "print(lista)\n",
    "print(\"a média ficou\",media)"
   ]
  },
  {
   "cell_type": "code",
   "execution_count": null,
   "metadata": {},
   "outputs": [],
   "source": [
    "#4"
   ]
  },
  {
   "cell_type": "code",
   "execution_count": 16,
   "metadata": {},
   "outputs": [
    {
     "name": "stdout",
     "output_type": "stream",
     "text": [
      "[1, 0, 2, 3, 4]\n",
      "[1, 3]\n",
      "[0, 2, 4]\n"
     ]
    }
   ],
   "source": [
    "lista = []\n",
    "listapar = []\n",
    "listaimpar = []\n",
    "for i in range(5):\n",
    "    numero = int(input(\"digite um número: \"))\n",
    "    lista.append(numero)\n",
    "    if numero % 2 == 0:\n",
    "        listapar.append(numero)\n",
    "    else:\n",
    "        listaimpar.append(numero)\n",
    "print(lista)\n",
    "print(\"qauntidade de números impares\",listaimpar)\n",
    "print(\"quantidade de números pares\", listapar)\n"
   ]
  },
  {
   "cell_type": "code",
   "execution_count": null,
   "metadata": {},
   "outputs": [],
   "source": [
    "#5"
   ]
  },
  {
   "cell_type": "code",
   "execution_count": 18,
   "metadata": {},
   "outputs": [
    {
     "name": "stdout",
     "output_type": "stream",
     "text": [
      "[10.0, 1.0]\n",
      "1\n"
     ]
    }
   ],
   "source": [
    "alunosaprovados= 0\n",
    "lista = []\n",
    "for i in range(10):\n",
    "    total = 0\n",
    "    media = 0\n",
    "    for f in range(4):\n",
    "        nota = int(input(\"digite um número: \"))\n",
    "        total += nota\n",
    "        media = total / 4\n",
    "    lista.append(media)\n",
    "    if media >= 7:\n",
    "        alunosaprovados += 1\n",
    "print(lista)\n",
    "print(\"a quantidade de alunos aprovados:\", alunosaprovados)"
   ]
  },
  {
   "cell_type": "code",
   "execution_count": null,
   "metadata": {},
   "outputs": [],
   "source": [
    "#6"
   ]
  },
  {
   "cell_type": "code",
   "execution_count": 20,
   "metadata": {},
   "outputs": [
    {
     "name": "stdout",
     "output_type": "stream",
     "text": [
      "[2, 3, 4, 2, 3]\n",
      "14\n",
      "144\n"
     ]
    }
   ],
   "source": [
    "lista = []\n",
    "total = 0\n",
    "multi = 1\n",
    "for i in range(50):\n",
    "    numero = int(input(\"digite um número: \"))\n",
    "    lista.append(numero)\n",
    "    total += numero\n",
    "    multi *= numero\n",
    "print(lista)\n",
    "print(\"a soam deu:\", total)\n",
    "print(\"a multiplicação deu:\", multi)"
   ]
  },
  {
   "cell_type": "code",
   "execution_count": null,
   "metadata": {},
   "outputs": [],
   "source": [
    "#7"
   ]
  },
  {
   "cell_type": "code",
   "execution_count": 18,
   "metadata": {},
   "outputs": [
    {
     "name": "stdout",
     "output_type": "stream",
     "text": [
      "a idade da pessoa é: [1, 2, 1]\n",
      "2\n"
     ]
    }
   ],
   "source": [
    "lista = []\n",
    "lista2 = []\n",
    "for i in range(3):\n",
    "    idade = int(input(\"digite uma idade: \"))\n",
    "    if idade < 0:\n",
    "        print(\"não existe essa pessoa\")\n",
    "    else:\n",
    "        lista.append(idade)\n",
    "        altura = float(input(\"digite uma altura: \"))\n",
    "        if altura < 0:\n",
    "            print(\"não existe essa pessoa\")\n",
    "            lista.remove(-1)\n",
    "        else:\n",
    "            lista2.append(altura)\n",
    "maior = (max(lista2))\n",
    "posicao = (lista2.index(maior))\n",
    "print(\"a idade da pessoa é:\", lista[posicao])\n"
   ]
  },
  {
   "cell_type": "code",
   "execution_count": null,
   "metadata": {},
   "outputs": [],
   "source": [
    "#8"
   ]
  },
  {
   "cell_type": "code",
   "execution_count": 1,
   "metadata": {},
   "outputs": [
    {
     "name": "stdout",
     "output_type": "stream",
     "text": [
      "[1, 2, 3, 4, 5, 6, 7, 8, 9, 10]\n",
      "[1, 4, 9, 16, 25, 36, 49, 64, 81, 100]\n"
     ]
    }
   ],
   "source": [
    "lista1 = []\n",
    "lista2 = []\n",
    "for i in range(10):\n",
    "    número = int(input(\"digite um número: \"))\n",
    "    resul = número **2 \n",
    "    lista1.append(número)\n",
    "    lista2.append(resul)\n",
    "print(lista1)\n",
    "print(lista2)\n",
    "    \n"
   ]
  },
  {
   "cell_type": "code",
   "execution_count": null,
   "metadata": {},
   "outputs": [],
   "source": [
    "#9"
   ]
  },
  {
   "cell_type": "code",
   "execution_count": 20,
   "metadata": {},
   "outputs": [
    {
     "name": "stdout",
     "output_type": "stream",
     "text": [
      "[2, 2]\n",
      "[3, 3]\n",
      "[2, 3, 2, 3]\n"
     ]
    }
   ],
   "source": [
    "lista1 = []\n",
    "lista2 = []\n",
    "lista3 = []\n",
    "lugar1 = -1\n",
    "for i in range(10):\n",
    "    num1 = int(input(\"digite um número:\"))\n",
    "    num2 = int(input(\"digite um número:\"))\n",
    "    lista1.append(num1)\n",
    "    lista2.append(num2)\n",
    "for i in range(10):\n",
    "    lugar1 += 1\n",
    "    posicao1 = lista1[lugar1]\n",
    "    lista3.append(posicao1)\n",
    "    posicao2 = lista2[lugar1]\n",
    "    lista3.append(posicao2)\n",
    "print(lista1)\n",
    "print(lista2)\n",
    "print(lista3)"
   ]
  },
  {
   "cell_type": "code",
   "execution_count": null,
   "metadata": {},
   "outputs": [],
   "source": [
    "#10"
   ]
  },
  {
   "cell_type": "code",
   "execution_count": 21,
   "metadata": {},
   "outputs": [
    {
     "name": "stdout",
     "output_type": "stream",
     "text": [
      "[44, 1, 5467, 54645, 5477, 78979879, 76547, 546, 35645, 5454]\n"
     ]
    }
   ],
   "source": [
    "lista1 = []\n",
    "lista2 = []\n",
    "lista3 = []\n",
    "lista4 = []\n",
    "lugar1 = -1\n",
    "for i in range(10):\n",
    "    num1 = int(input(\"digite um número:\"))\n",
    "    num2 = int(input(\"digite um número:\"))\n",
    "    num3 = int(input(\"digite um número:\"))\n",
    "    lista1.append(num1)\n",
    "    lista2.append(num2)\n",
    "    lista3.append(num3)\n",
    "for i in range(10):\n",
    "    lugar1 += 1\n",
    "    posicao1 = lista1[lugar1]\n",
    "    lista4.append(posicao1)\n",
    "    posicao2 = lista2[lugar1]\n",
    "    lista4.append(posicao2)\n",
    "    posicao3 = lista3[lugar1]\n",
    "    lista4.append(posicao3)\n",
    "print(lista1)\n",
    "print(lista2)\n",
    "print(lista3)\n",
    "print(lista4)"
   ]
  },
  {
   "cell_type": "code",
   "execution_count": null,
   "metadata": {},
   "outputs": [],
   "source": [
    "#11"
   ]
  },
  {
   "cell_type": "code",
   "execution_count": 6,
   "metadata": {},
   "outputs": [
    {
     "name": "stdout",
     "output_type": "stream",
     "text": [
      "9\n"
     ]
    }
   ],
   "source": [
    "resul = 0\n",
    "total = 0\n",
    "lugar = -1\n",
    "idade = [10, 14, 17, 18, 17, 18, 9, 15, 10, 11, 10, 14, 17, 18, 17, 18, 9, 15, 10, 11, 10, 14, 17, 18, 17, 18, 9, 15, 10, 11]\n",
    "altura = [1.75, 1.65, 1.50, 1.90, 1.79, 1.87, 2.00, 1.30, 1.40, 1.76, 1.75, 1.65, 1.50, 1.90, 1.79, 1.87, 2.00, 1.30, 1.40, 1.76, 1.75, 1.65, 1.50, 1.90, 1.79, 1.87, 2.00, 1.30, 1.40, 1.76]\n",
    "for i in range(30):\n",
    "    lugar += 1\n",
    "    total += altura[lugar]\n",
    "media = total / 30\n",
    "lugar = -1\n",
    "for i in range(30):\n",
    "    lugar += 1\n",
    "    if idade[lugar] > 13 and altura[lugar] < media:\n",
    "        resul += 1\n",
    "print(\"existe\", resul,\"alunos\")\n",
    "\n",
    "\n"
   ]
  },
  {
   "cell_type": "code",
   "execution_count": null,
   "metadata": {},
   "outputs": [],
   "source": [
    "#12"
   ]
  },
  {
   "cell_type": "code",
   "execution_count": 25,
   "metadata": {},
   "outputs": [
    {
     "name": "stdout",
     "output_type": "stream",
     "text": [
      "NÃO ACHEI\n"
     ]
    }
   ],
   "source": [
    "nomes = []\n",
    "for i in range(10):  \n",
    "    nome = input(\"digite um nome:\")\n",
    "    nomes.append(nome)\n",
    "busca = input(\"busque um nome na lsita:\")\n",
    "if busca in nomes:\n",
    "    print(\"ACHEI\")\n",
    "else:\n",
    "    print(\"NÃO ACHEI\")\n",
    "\n",
    "        \n",
    "\n"
   ]
  },
  {
   "cell_type": "code",
   "execution_count": null,
   "metadata": {},
   "outputs": [],
   "source": [
    "#!3"
   ]
  },
  {
   "cell_type": "code",
   "execution_count": 7,
   "metadata": {},
   "outputs": [
    {
     "name": "stdout",
     "output_type": "stream",
     "text": [
      "20.0 outubro\n"
     ]
    }
   ],
   "source": [
    "temperatura = []\n",
    "mes = []\n",
    "s = 0\n",
    "totaltemp = 0\n",
    "més = None\n",
    "meses = int(input(\"digite o més do ano: 1-12\"))\n",
    "while meses >= 1 and meses <= 12:\n",
    "    s += 1\n",
    "    if meses == 1:\n",
    "        més = \"janeiro\"\n",
    "        mes.append(més)\n",
    "    if meses == 2:\n",
    "        més = \"fevereiro\"\n",
    "        mes.append(més)\n",
    "    if meses == 3:\n",
    "        més = \"março\"\n",
    "        mes.append(més)\n",
    "    if meses == 4:\n",
    "        més = \"abril\"\n",
    "        mes.append(més)\n",
    "    if meses == 5:\n",
    "        més = \"maio\"\n",
    "        mes.append(més)\n",
    "    if meses == 6:\n",
    "        més = \"junho\"\n",
    "        mes.append(més)\n",
    "    if meses == 7:\n",
    "        més = \"julho\"\n",
    "        mes.append(més)\n",
    "    if meses == 8:\n",
    "        més = \"agosto\"\n",
    "        mes.append(més)\n",
    "    if meses == 9:\n",
    "        més = \"setembro\"\n",
    "        mes.append(més)\n",
    "    if meses == 10:\n",
    "        més = \"outubro\"\n",
    "        mes.append(més)\n",
    "    if meses == 11:\n",
    "        més = \"novembro\"\n",
    "        mes.append(més)\n",
    "    if meses == 12:\n",
    "        més = \"dezembro\"\n",
    "        mes.append(més)\n",
    "\n",
    "    temp = float(input(\"digite a temperatura do més\"))\n",
    "    totaltemp += temp\n",
    "    temperatura.append(temp)\n",
    "    meses = int(input(\"digite o més: 1-12\"))\n",
    "    \n",
    "media = totaltemp / s \n",
    "lugar = -1\n",
    "for i in range(s):\n",
    "    lugar += 1\n",
    "    if temperatura[lugar] > media:\n",
    "        print(temperatura[lugar], mes[lugar])\n",
    "\n"
   ]
  },
  {
   "cell_type": "code",
   "execution_count": null,
   "metadata": {},
   "outputs": [],
   "source": [
    "#14"
   ]
  },
  {
   "cell_type": "code",
   "execution_count": 14,
   "metadata": {},
   "outputs": [
    {
     "name": "stdout",
     "output_type": "stream",
     "text": [
      "RESULTADOS\n",
      "[342, 23432, 3424523, 1, 1, 1, 14335]\n",
      "[14335, 1, 1, 1, 3424523, 23432, 342]\n",
      "7\n",
      "3462635\n",
      "494662.14285714284\n",
      "1\n",
      "3\n"
     ]
    }
   ],
   "source": [
    "lista = []\n",
    "soma = 0\n",
    "media = 0\n",
    "quantidade = 0\n",
    "acimamedia = 0\n",
    "abaixo7 = 0\n",
    "nota = int(input(\"digite um valor:\"))\n",
    "while nota != -1:\n",
    "    lista.append(nota)\n",
    "    quantidade += 1\n",
    "    soma += nota\n",
    "    \n",
    "    nota = int(input(\"digite um valor:\"))\n",
    "media = soma / quantidade\n",
    "lugar = -1\n",
    "for i in range(quantidade):\n",
    "    lugar += 1\n",
    "    if lista[lugar] > media:\n",
    "        acimamedia += 1\n",
    "    if lista[lugar] < 7:\n",
    "        abaixo7 += 1\n",
    "print(\"RESULTADOS\")\n",
    "print(lista)\n",
    "lista.reverse()\n",
    "print(lista)\n",
    "print(\"foram lidos\",quantidade, \"valores\")\n",
    "print(\" a soma foi\",soma)\n",
    "print(\"a média foi\", media)\n",
    "print(\"números acima da média\", acimamedia)\n",
    "print(\"números abaixo de 7\", abaixo7)\n",
    "\n",
    "    \n"
   ]
  },
  {
   "cell_type": "code",
   "execution_count": null,
   "metadata": {},
   "outputs": [],
   "source": [
    "#15"
   ]
  },
  {
   "cell_type": "code",
   "execution_count": 7,
   "metadata": {},
   "outputs": [
    {
     "name": "stdout",
     "output_type": "stream",
     "text": [
      "não posso continuar\n",
      "não posso continuar\n",
      "Sistema Operacional     Votos   %\n",
      "-------------------     -----   ---\n",
      "Windows Server 0 0.0 %\n",
      "Unix 7 77.77777777777777 %\n",
      "Linux 2 22.22222222222222 %\n",
      "Netware 0 0.0 %\n",
      "Mac OS 0 0.0 %\n",
      "Outro 0 0.0 %\n",
      "-------------------     -----   -----\n",
      "o sistema operacional mais votado foi [3, 3] com\n"
     ]
    }
   ],
   "source": [
    "windows = []\n",
    "unix = []\n",
    "linux = []\n",
    "netware = []\n",
    "mac_os = []\n",
    "outros = []\n",
    "total = 0\n",
    "maior = 0\n",
    "soma_maior = 0\n",
    "operacional = None\n",
    "d = True\n",
    "\n",
    "while d == True:\n",
    "    votacao = int(input(\"digite o melhor sistema operacional: 1-6\"))\n",
    "    if votacao < 0 or votacao > 6:\n",
    "        print(\"não posso continuar\")\n",
    "    elif votacao == 0:\n",
    "        d = False\n",
    "    else:\n",
    "        total += 1\n",
    "        if votacao == 1:\n",
    "            windows.append(1)\n",
    "        if votacao == 2:\n",
    "            unix.append(1)\n",
    "        if votacao == 3:\n",
    "            linux.append(1)\n",
    "        if votacao == 4:\n",
    "            netware.append(1)\n",
    "        if votacao == 5:\n",
    "            mac_os.append(1)            \n",
    "        if votacao == 6:\n",
    "            outros.append(1)\n",
    "        \n",
    "\n",
    "win = windows.count(1)\n",
    "uni = unix.count(1)\n",
    "lin = linux.count(1)\n",
    "net = netware.count(1)\n",
    "mac = mac_os.count(1)\n",
    "out = outros.count(1)\n",
    "\n",
    "if win > maior:\n",
    "    maior = win\n",
    "    operacional = (\"windows\")\n",
    "if uni > maior:\n",
    "    maior = uni\n",
    "    operacional = (\"unix\")\n",
    "if lin > maior:\n",
    "    maior = lin\n",
    "    operacional = (\"linux\")\n",
    "if net > maior:\n",
    "    maior = net\n",
    "    operacional = (\"netware\")\n",
    "if mac > maior:\n",
    "    maior = mac\n",
    "    operacional = (\"mac_os\")\n",
    "if out > maior:\n",
    "    maior = out            \n",
    "    operacional = \"outros\"   \n",
    "\n",
    "mediawin = win * 100 / total\n",
    "mediauni = uni * 100 / total\n",
    "medialin = lin * 100 / total\n",
    "medianet = net * 100 / total\n",
    "mediamac = mac * 100 / total\n",
    "mediaout = out * 100 / total\n",
    "\n",
    "soma_win = sum(windows)\n",
    "soma_uni= sum(unix)\n",
    "soma_lin = sum(linux)\n",
    "soma_net = sum(netware)\n",
    "soma_mac = sum(mac_os)\n",
    "soma_out = sum(outros)\n",
    "\n",
    "if soma_win > soma_maior:\n",
    "    soma_maior = soma_win\n",
    "if soma_uni > soma_maior:\n",
    "    soma_maior = soma_uni\n",
    "if soma_lin > soma_maior:\n",
    "    soma_maior = soma_lin\n",
    "if soma_net > soma_maior:\n",
    "    soma_maior = soma_net\n",
    "if soma_mac > soma_maior:\n",
    "    soma_maior = soma_mac\n",
    "if soma_out > soma_maior:\n",
    "    soma_maior = soma_out\n",
    "                            \n",
    "print(\"Sistema Operacional     Votos   %\")\n",
    "print(\"-------------------     -----   ---\")\n",
    "print(\"Windows Server\",          win,   mediawin,\"%\")\n",
    "print(\"Unix\",                    uni,   mediauni,\"%\")\n",
    "print(\"Linux\",                    lin,   medialin,\"%\")\n",
    "print(\"Netware\",                 net,   medianet,\"%\")\n",
    "print(\"Mac OS\",                    mac,    mediamac,\"%\")\n",
    "print(\"Outro\",                     out,    mediaout,\"%\")\n",
    "print(\"-------------------     -----   -----\")\n",
    "\n",
    "print(\"o sistema operacional mais votado foi\", operacional, \"com\", soma_maior, \"votos\" )\n"
   ]
  },
  {
   "cell_type": "code",
   "execution_count": null,
   "metadata": {},
   "outputs": [],
   "source": [
    "#16"
   ]
  },
  {
   "cell_type": "code",
   "execution_count": 5,
   "metadata": {},
   "outputs": [
    {
     "name": "stdout",
     "output_type": "stream",
     "text": [
      "4\n"
     ]
    }
   ],
   "source": [
    "lista = []\n",
    "for i in range(5):\n",
    "    num = int(input(\"digite um número:\"))\n",
    "    lista.append(num)\n",
    "lista2 = lista.copy() \n",
    "apagar = max(lista2)\n",
    "lista2.remove(apagar)   \n",
    "maior = max(lista2)\n",
    "print(lista)\n",
    "print(\"o segundo maior elemento foi\", maior)"
   ]
  },
  {
   "cell_type": "code",
   "execution_count": null,
   "metadata": {},
   "outputs": [],
   "source": [
    "#17"
   ]
  },
  {
   "cell_type": "code",
   "execution_count": null,
   "metadata": {},
   "outputs": [],
   "source": [
    "num  = int(input(\"Informe o número: \"))\n",
    "numBinario =[] \n",
    "\n",
    "\n",
    "if num > 127 or num < -127:\n",
    "    print(\"Não é possível representar\")\n",
    "\n",
    "else: \n",
    "    if num < 0 : \n",
    "        sinal = 1\n",
    "        num = num * (-1) \n",
    "        \n",
    "    else: \n",
    "        sinal = 0\n",
    "   \n",
    "  \n",
    "    while num > 0:\n",
    "            resto = num % 2\n",
    "            numBinario.append(resto)\n",
    "            num = num // 2\n",
    "   \n",
    "    for i in range(7-len(numBinario)):\n",
    "        numBinario.append(0)\n",
    "        \n",
    "    numBinario.append(sinal) \n",
    "   \n",
    "    numBinario.reverse()\n",
    "    print(numBinario)"
   ]
  },
  {
   "cell_type": "code",
   "execution_count": null,
   "metadata": {},
   "outputs": [],
   "source": [
    "#18"
   ]
  },
  {
   "cell_type": "code",
   "execution_count": 3,
   "metadata": {},
   "outputs": [
    {
     "name": "stdout",
     "output_type": "stream",
     "text": [
      "11\n"
     ]
    }
   ],
   "source": [
    "matriz = []\n",
    "\n",
    "\n",
    "for i in range(4):\n",
    "    linha = []\n",
    "    for j in range(4):\n",
    "        valor = int(input(f\"Digite o valor para a posição [{i},{j}]: \"))\n",
    "        linha.append(valor)\n",
    "    matriz.append(linha)\n",
    "\n",
    "contador = 0\n",
    "for linha in matriz:\n",
    "    for valor in linha:\n",
    "        if valor > 10:\n",
    "            contador += 1\n",
    "print(\"a matriz possui\", contador, \" números maiores que 10\")"
   ]
  },
  {
   "cell_type": "code",
   "execution_count": null,
   "metadata": {},
   "outputs": [],
   "source": [
    "#19"
   ]
  },
  {
   "cell_type": "code",
   "execution_count": 10,
   "metadata": {},
   "outputs": [
    {
     "name": "stdout",
     "output_type": "stream",
     "text": [
      "[1, 0, 0, 0, 0]\n",
      "[0, 1, 0, 0, 0]\n",
      "[0, 0, 1, 0, 0]\n",
      "[0, 0, 0, 1, 0]\n",
      "[0, 0, 0, 0, 1]\n"
     ]
    }
   ],
   "source": [
    "matriz = [[0 for i in range(5)] for l in range(5)]\n",
    "\n",
    "for i in range(5):\n",
    "    matriz[i][i] = 1\n",
    "\n",
    "for linha in matriz:\n",
    "    print(linha)"
   ]
  },
  {
   "cell_type": "code",
   "execution_count": null,
   "metadata": {},
   "outputs": [],
   "source": [
    "#20"
   ]
  },
  {
   "cell_type": "code",
   "execution_count": 24,
   "metadata": {},
   "outputs": [
    {
     "name": "stdout",
     "output_type": "stream",
     "text": [
      "[23423, 32423, 4, 34324, 234]\n",
      "[234234, 23423, 4234, 23423, 4234]\n",
      "[23432, 4234, 234, 432, 44543]\n",
      "[5643654, 6546, 4564, 5654, 6765765]\n",
      "[76578567, 867876, 67867, 8678, 76876]\n",
      "O valor não foi encontrado na matriz.\n"
     ]
    }
   ],
   "source": [
    "matriz = [[0 for _ in range(5)] for _ in range(5)]\n",
    "\n",
    "\n",
    "for i in range(5):\n",
    "    for j in range(5):\n",
    "        matriz[i][j] = int(input(f\"Digite o valor para a posição [{i},{j}]: \"))\n",
    "\n",
    "x = int(input(\"Digite o valor a ser buscado: \"))\n",
    "\n",
    "encontrado = False\n",
    "for i in range(5):\n",
    "    for j in range(5):\n",
    "        if matriz[i][j] == x:\n",
    "            print(f\"O valor {x} foi encontrado na posição [{i},{j}].\")\n",
    "            encontrado = True\n",
    "            \n",
    "for linha in matriz:\n",
    "    print(linha)\n",
    "\n",
    "if encontrado == False:\n",
    "    print(\"O valor não foi encontrado na matriz.\")"
   ]
  },
  {
   "cell_type": "code",
   "execution_count": null,
   "metadata": {},
   "outputs": [],
   "source": [
    "#21"
   ]
  },
  {
   "cell_type": "code",
   "execution_count": null,
   "metadata": {},
   "outputs": [],
   "source": [
    "\n",
    "matriz1 = [[0 for _ in range(4)] for _ in range(4)]\n",
    "matriz2 = [[0 for _ in range(4)] for _ in range(4)]\n",
    "\n",
    "print(\"Preencha a primeira matriz:\")\n",
    "for i in range(4):\n",
    "    for j in range(4):\n",
    "        matriz1[i][j] = int(input(f\"Digite o valor para a posição [{i},{j}]: \"))\n",
    "\n",
    "print(\"\\nPreencha a segunda matriz:\")\n",
    "for i in range(4):\n",
    "    for j in range(4):\n",
    "        matriz2[i][j] = int(input(f\"Digite o valor para a posição [{i},{j}]: \"))\n",
    "\n",
    "matriz3 = [[0 for _ in range(4)] for _ in range(4)]\n",
    "\n",
    "for i in range(4):\n",
    "    for j in range(4):\n",
    "        matriz3[i][j] = max(matriz1[i][j], matriz2[i][j])\n",
    "\n",
    "for linha in matriz3:\n",
    "    print(linha)"
   ]
  },
  {
   "cell_type": "code",
   "execution_count": null,
   "metadata": {},
   "outputs": [],
   "source": [
    "#22"
   ]
  },
  {
   "cell_type": "code",
   "execution_count": null,
   "metadata": {},
   "outputs": [],
   "source": []
  },
  {
   "cell_type": "code",
   "execution_count": null,
   "metadata": {},
   "outputs": [],
   "source": [
    "#23"
   ]
  },
  {
   "cell_type": "code",
   "execution_count": 11,
   "metadata": {},
   "outputs": [
    {
     "name": "stdout",
     "output_type": "stream",
     "text": [
      "[1, 2, 3]\n",
      "[1, 2, 3]\n",
      "[1, 2, 3]\n",
      "A soma dos tres elementos que estão acima da diagonal principal é: 8\n"
     ]
    }
   ],
   "source": [
    "matriz = [[0, 0, 0], [0, 0, 0], [0, 0, 0]]\n",
    "\n",
    "for i in range(3):\n",
    "    for j in range(3):\n",
    "        matriz[i][j] = int(input(f\"Digite o valor para a posição [{i},{j}]: \"))\n",
    "\n",
    "soma_diagonal = sum(matriz[i][1+i] for i in range(2))\n",
    "soma_diagonal += matriz[0][2]\n",
    "for linha in matriz:\n",
    "    print(linha)\n",
    "\n",
    "print(\"A soma dos tres elementos que estão acima da diagonal principal é:\", soma_diagonal)"
   ]
  },
  {
   "cell_type": "code",
   "execution_count": null,
   "metadata": {},
   "outputs": [],
   "source": [
    "#24"
   ]
  },
  {
   "cell_type": "code",
   "execution_count": null,
   "metadata": {},
   "outputs": [],
   "source": [
    "matriz = [[0, 0, 0], [0, 0, 0], [0, 0, 0]]\n",
    "\n",
    "for i in range(3):\n",
    "    for j in range(3):\n",
    "        matriz[i][j] = int(input(f\"Digite o valor para a posição [{i},{j}]: \"))\n",
    "\n",
    "soma_diagonal = sum(matriz[i][i] for i in range(3))\n",
    "\n",
    "for linha in matriz:\n",
    "    print(linha)\n",
    "\n",
    "print(\"A soma dos elementos da diagonal principal é:\", soma_diagonal)"
   ]
  },
  {
   "cell_type": "code",
   "execution_count": null,
   "metadata": {},
   "outputs": [],
   "source": [
    "#25"
   ]
  },
  {
   "cell_type": "code",
   "execution_count": 10,
   "metadata": {},
   "outputs": [
    {
     "name": "stdout",
     "output_type": "stream",
     "text": [
      "[1, 2, 3]\n",
      "[2, 3, 2]\n",
      "[3, 2, 1]\n",
      "A soma dos elementos da diagonal sécundaria é: 9\n"
     ]
    }
   ],
   "source": [
    "matriz = [[0, 0, 0], [0, 0, 0], [0, 0, 0]]\n",
    "\n",
    "for i in range(3):\n",
    "    for j in range(3):\n",
    "        matriz[i][j] = int(input(f\"Digite o valor para a posição [{i},{j}]: \"))\n",
    "\n",
    "soma_diagonal = sum(matriz[i][2-i] for i in range(3))\n",
    "                           \n",
    "\n",
    "for linha in matriz:\n",
    "    print(linha)\n",
    "\n",
    "print(\"A soma dos elementos da diagonal sécundaria é:\", soma_diagonal)"
   ]
  },
  {
   "cell_type": "code",
   "execution_count": null,
   "metadata": {},
   "outputs": [],
   "source": [
    "#26"
   ]
  },
  {
   "cell_type": "code",
   "execution_count": 17,
   "metadata": {},
   "outputs": [
    {
     "name": "stdout",
     "output_type": "stream",
     "text": [
      "Matriz Original:\n",
      "[1, 1, 1, 1]\n",
      "[1, 1, 1, 1]\n",
      "[1, 1, 1, 1]\n",
      "[1, 1, 1, 1]\n",
      "Matriz Transformada em Triangular Inferior:\n",
      "[1, 0, 0, 0]\n",
      "[1, 1, 0, 0]\n",
      "[1, 1, 1, 0]\n",
      "[1, 1, 1, 1]\n"
     ]
    }
   ],
   "source": [
    "matriz = [[0, 0, 0, 0], [0, 0, 0, 0], [0, 0, 0, 0], [0, 0, 0, 0]]\n",
    "\n",
    "for i in range(4):\n",
    "    for j in range(4):\n",
    "        matriz[i][j] = int(input(f\"Digite o valor para a posição [{i},{j}]: \"))\n",
    "\n",
    "print(\"Matriz Original:\")\n",
    "for linha in matriz:\n",
    "    print(linha)\n",
    "\n",
    "for i in range(4):\n",
    "    for j in range(i + 1, 4):\n",
    "        matriz[i][j] = 0\n",
    "\n",
    "print(\"Matriz Transformada em Triangular Inferior:\")\n",
    "for linha in matriz:\n",
    "    print(linha)"
   ]
  },
  {
   "cell_type": "code",
   "execution_count": null,
   "metadata": {},
   "outputs": [],
   "source": [
    "#27"
   ]
  },
  {
   "cell_type": "code",
   "execution_count": null,
   "metadata": {},
   "outputs": [],
   "source": [
    "matriz = []\n",
    "matriz2 = []\n",
    "matriz3 = []\n",
    "n = 2\n",
    "print(\"Formação Matriz 1\")\n",
    "for i in range(n):\n",
    "  linha1 = []\n",
    "  for j in range(n):\n",
    "    num1 = float(input(\"Digite um número: \"))\n",
    "    linha1.append(num1)\n",
    "  matriz.append(linha1)\n",
    "\n",
    "print(\"Formação Matriz 2\")\n",
    "for i in range(n):\n",
    "  linha2 = []\n",
    "  for j in range(n):\n",
    "    num2 = float(input(\"Digite um número: \"))\n",
    "    linha2.append(num2)\n",
    "  matriz2.append(linha2)\n",
    "\n",
    "print(\"Digite:\")\n",
    "print(\"a - Soma\")\n",
    "print(\"b - Subtração\")\n",
    "print(\"c - Constante\")\n",
    "print(\"d - imprimir\")\n",
    "escolha = input(\"Qual a função desejada? \")\n",
    "if escolha != \"a\" and escolha != \"b\" and escolha != \"c\" and escolha != \"d\":\n",
    "  print(\"Inválido\")\n",
    "else:\n",
    "  if escolha == \"a\":\n",
    "    for i in range(n):\n",
    "      linha3 = []\n",
    "      for j in range(n):\n",
    "        numLinha3  = matriz[i][j] + matriz2[i][j]\n",
    "        linha3.append(numLinha3)\n",
    "      matriz3.append(linha3)\n",
    "    for i in range(n):\n",
    "      print(matriz3[i])\n",
    "\n",
    "  if escolha == \"b\":\n",
    "     for i in range(n):\n",
    "      linha3 = []\n",
    "      for j in range(n):\n",
    "        numLinha3  = matriz[i][j] - matriz2[i][j]\n",
    "        linha3.append(numLinha3)\n",
    "      matriz3.append(linha3)\n",
    "     for i in range(n):\n",
    "      print(matriz3[i])\n",
    "\n",
    "  if escolha == 'c':\n",
    "    constante = int(input(\"Digite um valor para a constante: \"))\n",
    "    for i in range(n):\n",
    "      for j in range(n):\n",
    "        matriz[i][j] += constante\n",
    "        matriz2[i][j] += constante\n",
    "    print(\"Matriz 1 com a Constante\", constante)\n",
    "    for i in range(n):\n",
    "      print(matriz[i])\n",
    "    print(\"Matriz 2 com a Constante\", constante)\n",
    "    for i in range(n):\n",
    "      print(matriz2[i])\n",
    "\n",
    "  if escolha == 'd':\n",
    "    for i in range(n):\n",
    "      print(matriz[i])\n",
    "    for i in range(n):\n",
    "      print(matriz2[i])"
   ]
  },
  {
   "cell_type": "code",
   "execution_count": null,
   "metadata": {},
   "outputs": [],
   "source": [
    "#28"
   ]
  },
  {
   "cell_type": "code",
   "execution_count": null,
   "metadata": {},
   "outputs": [],
   "source": [
    "matrizAlunos = []\n",
    "gabarito = [\"a\", \"b\",\"a\", \"b\",\"a\", \"b\",\"a\", \"b\",\"a\", \"b\"]\n",
    "\n",
    "for i in range(15): \n",
    "    linha = []\n",
    "    contrespostasCertas = 0\n",
    "    matricula = int(input())\n",
    "    linha.append(matricula)\n",
    "    for i in range(10):\n",
    "        resposta = input(\"Resposta questão \" + str(i+1))\n",
    "        linha.append(resposta)\n",
    "        if resposta == gabarito[i]:\n",
    "            contrespostasCertas += 1\n",
    "    linha.append(contrespostasCertas)\n",
    "    matrizAlunos.append(linha)\n",
    "    \n",
    "print(\"g= \", gabarito)\n",
    "\n",
    "for i in range(len(matrizAlunos)):\n",
    "    print(matrizAlunos[i])\n",
    "    \n",
    "print(matrizAlunos)"
   ]
  },
  {
   "cell_type": "code",
   "execution_count": null,
   "metadata": {},
   "outputs": [],
   "source": [
    "#29"
   ]
  },
  {
   "cell_type": "code",
   "execution_count": null,
   "metadata": {},
   "outputs": [],
   "source": []
  },
  {
   "cell_type": "code",
   "execution_count": null,
   "metadata": {},
   "outputs": [],
   "source": [
    "#30"
   ]
  },
  {
   "cell_type": "code",
   "execution_count": 2,
   "metadata": {},
   "outputs": [
    {
     "name": "stdout",
     "output_type": "stream",
     "text": [
      "[16900.0, 52900.0, 360000.0, 250000.0]\n",
      "[9000000.0, 250000.0, 490000.0, 1440000.0]\n",
      "[250000.0, 40000.0, 40000.0, 10000.0]\n"
     ]
    }
   ],
   "source": [
    "ano_2019 = [[0,0,0,0],[0,0,0,0],[0,0,0,0]]\n",
    "\n",
    "\n",
    "ano_2017 = [] \n",
    "for i in range(3): \n",
    "    linha = [] \n",
    "    for j in range(4): \n",
    "        linha.append(int(input('Informe a quantidade de grãos'))) \n",
    "    ano_2017.append(linha)\n",
    "\n",
    "ano_2018 = [] \n",
    "for i in range(3): \n",
    "    linha = [] \n",
    "    for j in range(4): \n",
    "        linha.append(int(input('Informe a quantidade de grãos'))) \n",
    "    ano_2018.append(linha)\n",
    "\n",
    "\n",
    "for i in range(len(ano_2017)):\n",
    "    for j in range(len(ano_2017[0])):\n",
    "        porcentagem = (ano_2018[i][j] - ano_2017[i][j])/ano_2017[i][j]\n",
    "        ano_2019[i][j] = (1 + porcentagem) * ano_2018[i][j]\n",
    "\n",
    "\n",
    "for i in range(len(ano_2019)):\n",
    "    print(ano_2019[i])"
   ]
  }
 ],
 "metadata": {
  "kernelspec": {
   "display_name": "Python 3",
   "language": "python",
   "name": "python3"
  },
  "language_info": {
   "codemirror_mode": {
    "name": "ipython",
    "version": 3
   },
   "file_extension": ".py",
   "mimetype": "text/x-python",
   "name": "python",
   "nbconvert_exporter": "python",
   "pygments_lexer": "ipython3",
   "version": "3.12.2"
  }
 },
 "nbformat": 4,
 "nbformat_minor": 2
}
