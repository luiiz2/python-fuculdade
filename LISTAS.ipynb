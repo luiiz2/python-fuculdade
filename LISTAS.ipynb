{
 "cells": [
  {
   "cell_type": "code",
   "execution_count": 75,
   "metadata": {},
   "outputs": [
    {
     "name": "stdout",
     "output_type": "stream",
     "text": [
      "seu número é 2\n"
     ]
    }
   ],
   "source": [
    "numero = input(\"imfome um número? \")\n",
    "print(\"seu número é\", numero)"
   ]
  },
  {
   "cell_type": "code",
   "execution_count": null,
   "metadata": {},
   "outputs": [],
   "source": [
    "numero1 = float(input(\"imforme o primeiro número: \"))\n",
    "numero2 = float(input(\"imforme outro número: \"))\n",
    "soma = numero1 + numero2\n",
    "print(\"a soma dos números foi\", soma)"
   ]
  },
  {
   "cell_type": "code",
   "execution_count": null,
   "metadata": {},
   "outputs": [],
   "source": [
    "aluno = input(\"nome do aluno? \")\n",
    "nota1 = float(input(\"imforme a primeira nota: \"))\n",
    "nota2 = float(input(\"imforme a segunda nota: \"))\n",
    "nota3 = float(input(\"imforme a terceira nota: \"))\n",
    "nota4 = float(input(\"imforme a quarta nota: \"))\n",
    "media = (nota1 + nota2 + nota3 + nota4) / 4\n",
    "print(\"a média de\", aluno, \"foi\", media)"
   ]
  },
  {
   "cell_type": "code",
   "execution_count": null,
   "metadata": {},
   "outputs": [],
   "source": [
    "metros = float(input(\"digite quantos você quer converter: \"))\n",
    "cent = metros * 100\n",
    "print(\"você tem\", cent, \"centimetros\")"
   ]
  },
  {
   "cell_type": "code",
   "execution_count": null,
   "metadata": {},
   "outputs": [],
   "source": [
    "pi = 3.14\n",
    "raio = float(input(\"imfomre o valor do raio: \"))\n",
    "area = raio ** 2 * pi\n",
    "print(\"a área do circulo é\", area)"
   ]
  },
  {
   "cell_type": "code",
   "execution_count": null,
   "metadata": {},
   "outputs": [],
   "source": [
    "lado = int(input(\"imforme a medida do lado: \"))\n",
    "area = lado ** 2\n",
    "dobro = area * 2\n",
    "print(\"a area do quadrado é\", area, \"e o dobro dela é\", dobro )"
   ]
  },
  {
   "cell_type": "code",
   "execution_count": null,
   "metadata": {},
   "outputs": [],
   "source": [
    "hora = float(input(\"quanto vc ganha por hora? \"))\n",
    "mes = int(input(\"qunatos horas vc trebalha por més? \"))\n",
    "salario = hora * mes\n",
    "print(\"vc recebe\", salario, \"por més\")"
   ]
  },
  {
   "cell_type": "code",
   "execution_count": null,
   "metadata": {},
   "outputs": [],
   "source": [
    "fareh = float(input(\"quantos farenheit está? \"))\n",
    "celsius = (fareh - 32) / 1.8 \n",
    "print(\"a temperatura de\", fareh, \"farenheit em celsius é\", celsius,)"
   ]
  },
  {
   "cell_type": "code",
   "execution_count": null,
   "metadata": {},
   "outputs": [],
   "source": [
    "celsius = float(input(\"quantos celsius está? \"))\n",
    "fareh = celsius * 1.8 + 32\n",
    "print(\"a temperatura de\", celsius, \"celsius em farenheit é\", fareh,)"
   ]
  },
  {
   "cell_type": "code",
   "execution_count": null,
   "metadata": {},
   "outputs": [],
   "source": [
    "dolar = float(input(\"quantos dolares voce tem ? \"))\n",
    "dolar1 = float(input(\"quanto tá a cotação do dolar? \"))\n",
    "conversao = dolar * dolar1\n",
    "print (\"voce tem\", conversao, \"reais\")"
   ]
  },
  {
   "cell_type": "code",
   "execution_count": null,
   "metadata": {},
   "outputs": [],
   "source": [
    "depositado = float(input(\"quanto voce depositou? \"))\n",
    "multi = depositado * 1.007\n",
    "multi_certo = round(multi, 0)\n",
    "print(\"o valor com juros ficou\", multi_certo)"
   ]
  },
  {
   "cell_type": "code",
   "execution_count": null,
   "metadata": {},
   "outputs": [],
   "source": [
    "compra = float(input(\"quanto vc gastou na loja? \"))\n",
    "divi = compra / 5\n",
    "print(\"ficou 5 prestçoes de\", divi)"
   ]
  },
  {
   "cell_type": "code",
   "execution_count": null,
   "metadata": {},
   "outputs": [],
   "source": [
    "compra = float(input(\"quantos reais foi comprado o produto? \"))\n",
    "venda = float(input(\"quanto de porcentagem vc quer adicionar? \"))\n",
    "acrecimo = compra/100 * venda\n",
    "valorfinal = acrecimo + compra\n",
    "print(\"o valor da venda vai ser\", valorfinal )"
   ]
  },
  {
   "cell_type": "code",
   "execution_count": null,
   "metadata": {},
   "outputs": [],
   "source": [
    "km = float(input(\"quantos km andou o carro? \"))\n",
    "gasolina = int(input(\"quantos litros de gasolina gastou? \"))\n",
    "media = gasolina / km\n",
    "print(\"a media gasta de gasolina foi\", media)"
   ]
  },
  {
   "cell_type": "code",
   "execution_count": null,
   "metadata": {},
   "outputs": [],
   "source": [
    "a = int(input(\"escreva um número:\"))\n",
    "b = int(input(\"escreva um número:\"))\n",
    "c = int(input(\"escreva um número:\"))\n",
    "s = (b + c)**2\n",
    "r = (b + a)**2\n",
    "d = (r + s)/2\n",
    "print(\"o resultado da expresão foi\", d)"
   ]
  },
  {
   "cell_type": "code",
   "execution_count": null,
   "metadata": {},
   "outputs": [],
   "source": [
    "nome = input(\"nome do vendedor: \")\n",
    "salariofixo = float(input(\"qual o salario dele? \"))\n",
    "produto = 20\n",
    "vendas = int(input(\"quantas vendas fez nesse més? \"))\n",
    "comissao = (vendas * produto) * 1.15\n",
    "salariofinal = salariofixo + comissao\n",
    "print(nome, \"vendeu\", vendas, \"passando de\", salariofixo, \"para\", salariofinal, \"de comissão\" )"
   ]
  },
  {
   "cell_type": "code",
   "execution_count": null,
   "metadata": {},
   "outputs": [],
   "source": [
    "inteiro1 = int(input(\"coleque um número inteiro: \"))\n",
    "inteiro2 = int(input(\"coleque outro número inteiro: \"))\n",
    "real = float(input(\"coleque um número real: \"))\n",
    "calculo1 = inteiro1 * 2 + inteiro2 / 2\n",
    "calculo2 = inteiro1 * 3 + real\n",
    "calculo3 = real **2\n",
    "print(\"o resultado dos calculos foi\", calculo1, calculo2, calculo3 )"
   ]
  },
  {
   "cell_type": "code",
   "execution_count": 3,
   "metadata": {},
   "outputs": [
    {
     "name": "stdout",
     "output_type": "stream",
     "text": [
      "o peso ideal para kesia é 80.0\n"
     ]
    }
   ],
   "source": [
    "nome = input(\"digite seu nome: \")\n",
    "altura = float(input(\"digite sua altura em metros: \"))\n",
    "pesoideal = 72.7 * altura - 58\n",
    "pesoideal_limitado = round(pesoideal, 0)\n",
    "print(\"o peso ideal para\", nome, \"é\", pesoideal_limitado)"
   ]
  },
  {
   "cell_type": "code",
   "execution_count": null,
   "metadata": {},
   "outputs": [],
   "source": [
    "mb = float(input(\"qual o tamanho do arquivo q deseja baixar em megabytes: \"))\n",
    "mbs = float(input(\"qual a velocidade da sua internet em megabits: \"))\n",
    "tempo = mb / (mbs/8)\n",
    "minuto = tempo / 60\n",
    "minuto_limi = round(minuto, 0)\n",
    "print(\"o arquivo será baixado em\", minuto_limi, \"minutos\")"
   ]
  },
  {
   "cell_type": "code",
   "execution_count": null,
   "metadata": {},
   "outputs": [],
   "source": [
    "a = int(input(\"coloque um número pra representar a: \"))\n",
    "b = int(input(\"coloque outro número pra representar b: \"))\n",
    "\n",
    "a,b = b,a\n",
    "\n",
    "print(\"a = \", a, \"b =\",b)"
   ]
  },
  {
   "cell_type": "code",
   "execution_count": null,
   "metadata": {},
   "outputs": [],
   "source": [
    "salariobruto = float(input(\"qual teu salario? \"))\n",
    "ir = salariobruto * 0.11\n",
    "inss = salariobruto * 0.08\n",
    "sindicato = salariobruto * 0.05\n",
    "salarioliquido = salariobruto - (ir + inss + sindicato)\n",
    "print(\"------------------------------------------------\")\n",
    "print(\"                    TABELA                      \")\n",
    "print(\"Seu salário sem desconto é\", salariobruto)\n",
    "print(\"É tirado\", ir, \"do imposto de renda\" )\n",
    "print(\"É colocado\", inss, \"pra o INSS\")\n",
    "print(\"É cobrado\", sindicato, \"do sindicato\")\n",
    "print(\"Seu salário no final fica\", salarioliquido,\"R$\")\n",
    "print(\"------------------------------------------------\")"
   ]
  },
  {
   "cell_type": "markdown",
   "metadata": {},
   "source": [
    "LISTA 2"
   ]
  },
  {
   "cell_type": "code",
   "execution_count": null,
   "metadata": {},
   "outputs": [],
   "source": [
    "numero1 = int(input(\"digite um número: \"))\n",
    "numero2 = int(input(\"digite outro número: \"))\n",
    "if numero1 > numero2:\n",
    "    print(\"O maior é\", numero1)\n",
    "elif numero1 == numero2:\n",
    "    print(\"eles são iguais\")\n",
    "else:\n",
    "    print(\"O maior é\", numero2)"
   ]
  },
  {
   "cell_type": "code",
   "execution_count": null,
   "metadata": {},
   "outputs": [],
   "source": [
    "num = int(input(\"digite um valor: \"))\n",
    "if num < 0:\n",
    "    print(\"o\", num, \"é negativo\")\n",
    "elif num > 0:\n",
    "    print(\"o\", num, \"é positivo\")\n",
    "else:\n",
    "    print(\"o\", num, \"é neutro\")"
   ]
  },
  {
   "cell_type": "code",
   "execution_count": null,
   "metadata": {},
   "outputs": [],
   "source": [
    "sexo = input(\"digite se é feminino ou maculino -> f/m: \")\n",
    "x = sexo.upper()\n",
    "if x == (\"F\"):\n",
    "  print(\"é feminino\")\n",
    "elif x == (\"M\"):\n",
    "    print(\"é masculino\")\n",
    "else:\n",
    "   print(\"sexo invalido\")"
   ]
  },
  {
   "cell_type": "code",
   "execution_count": null,
   "metadata": {},
   "outputs": [],
   "source": [
    "aluno = input(\"nome do aluno? \")\n",
    "nota1 = float(input(\"imforme a primeira nota: \"))\n",
    "nota2 = float(input(\"imforme a segunda nota: \"))\n",
    "media = (nota1 + nota2 ) / 2\n",
    "if nota1 < 0 or nota2 < 0:\n",
    "    print(\"não é uma nota\")\n",
    "else:\n",
    "    if media == 10:\n",
    "        print(\"a média de\", aluno, \"foi\", media, \"ele foi aprovado com distinção\")\n",
    "    else:\n",
    "        if media >= 7:\n",
    "            print(\"a média de\", aluno, \"foi\", media, \"ele está aprovado\")\n",
    "        else:\n",
    "            print(\"a média de\", aluno, \"foi\", media, \"ele está reprovado\")"
   ]
  },
  {
   "cell_type": "code",
   "execution_count": null,
   "metadata": {},
   "outputs": [],
   "source": [
    "numero1 = int(input(\"digite um número: \"))\n",
    "numero2 = int(input(\"digite outro número: \"))\n",
    "numero3 = int(input(\"digite mais um: \"))\n",
    "if (numero1 > numero2) and (numero1 > numero3):\n",
    "    print(\"O maior é\", numero1)\n",
    "elif (numero2 > numero3) and (numero2 > numero3):\n",
    "    print(\"O maior é\", numero2)\n",
    "else:\n",
    "    print(\"O maior é\", numero3)"
   ]
  },
  {
   "cell_type": "code",
   "execution_count": null,
   "metadata": {},
   "outputs": [],
   "source": [
    "numero1 = int(input(\"digite o preço do primeiro: \"))\n",
    "numero2 = int(input(\"digite o preço do segundo produto: \"))\n",
    "numero3 = int(input(\"digite o preço do ultimo: \"))\n",
    "if (numero1 < numero2) and (numero1 < numero3):\n",
    "    print(\"comprar o primeiro produto com preço de\", numero1)\n",
    "elif (numero2 < numero3) and (numero2 < numero3):\n",
    "    print(\"comprar o segundo produto com preço de\", numero2)\n",
    "else:\n",
    "    print(\"comprar o terceiro produto com preço de\", numero3)"
   ]
  },
  {
   "cell_type": "code",
   "execution_count": null,
   "metadata": {},
   "outputs": [],
   "source": [
    "turno = input(\"digite em qual turno vc estuda (vespertino, matutino ou noturno) com -> v/m/n: \")\n",
    "x = turno.upper()\n",
    "if x == (\"V\"):\n",
    "  print(\"Boa tarde, princesa\")\n",
    "elif x == (\"M\"):\n",
    "    print(\"Bom dia, princesa\")\n",
    "elif x == (\"N\"):\n",
    "    print(\"Boa noite, princesa\")\n",
    "else:\n",
    "   print(\"valor invalido\")"
   ]
  },
  {
   "cell_type": "code",
   "execution_count": null,
   "metadata": {},
   "outputs": [],
   "source": [
    "sal = float(input(\"digite o valor do seu salário: \"))\n",
    "if sal <= 0:\n",
    "    print(\"valor invalido\")\n",
    "else:\n",
    "    if  sal <= 280:\n",
    "        sal1 = sal*0.20\n",
    "        sal1_novo = sal + sal1\n",
    "        print(\"o seu salário era de\", sal, \"teve um auemnto de 20% ficando\", sal1_novo, \"aumentou\", sal1,\"R$\")\n",
    "    elif (sal > 280) and (sal <= 700):\n",
    "        sal2 = sal*0.15\n",
    "        sal2_novo = sal + sal2\n",
    "        print(\"o seu salário era de\", sal, \"teve um auemnto de 15% ficando\", sal2_novo, \"aumentou\", sal2,\"R$\")\n",
    "    elif (sal > 700) and (sal < 1500):\n",
    "        sal3 = sal*0.10\n",
    "        sal3_novo = sal + sal3\n",
    "        print(\"o seu salário era de\", sal, \"teve um auemnto de 10% ficando\", sal3_novo, \"aumentou\", sal3,\"R$\")\n",
    "    else:\n",
    "        sal4 = sal*0.05\n",
    "        sal4_novo = sal + sal4\n",
    "        print(\"o seu salário era de\", sal, \"teve um auemnto de 5% ficando\", sal4_novo, \"aumentou\", sal4,\"R$\")"
   ]
  },
  {
   "cell_type": "code",
   "execution_count": null,
   "metadata": {},
   "outputs": [],
   "source": [
    "horas = float(input(\"quantas horas vc trabalha por més? \"))\n",
    "valor = float(input(\"quanto custa sua horas de trabalho? \"))\n",
    "if hora <= 0 or valor <= 0:\n",
    "    print(\"não pode prosseguir\")\n",
    "else:\n",
    "    salariobruto = horas * valor\n",
    "    if salariobruto < 900:\n",
    "        ir = 0\n",
    "    elif (salariobruto >= 900) and (salariobruto < 1500):\n",
    "        ir = salariobruto * 0.05\n",
    "    elif (salariobruto >= 1500) and (salariobruto < 2500):\n",
    "        ir = salariobruto * 0.10\n",
    "    else:\n",
    "        ir = ir = salariobruto * 0.20\n",
    "\n",
    "    inss = salariobruto * 0.10\n",
    "    fgts = salariobruto * 0.11\n",
    "    salarioliquido = salariobruto - (ir + inss + fgts)\n",
    "    print(\"------------------------------------------------\")\n",
    "    print(\"                    TABELA                      \")\n",
    "    print(\"Seu salário sem desconto é\", salariobruto,\"R$\")\n",
    "    print(\"É retirado\", ir, \"do imposto de renda\" )\n",
    "    print(\"É retirado\", inss, \"para o INSS\")\n",
    "    print(\"É cobrado\", fgts, \"do FGTS\")\n",
    "    print(\"Seu salário no final fica\", salarioliquido,\"R$\")\n",
    "    print(\"------------------------------------------------\")"
   ]
  },
  {
   "cell_type": "code",
   "execution_count": null,
   "metadata": {},
   "outputs": [],
   "source": [
    "dia = int(input(\"digite o dia da semana, 1 representa domingo, 2-segunda 3-terça e assim por diante: \"))\n",
    "if dia == 1:\n",
    "    print(\"É domingo\")\n",
    "elif dia == 2:\n",
    "    print(\"É segunda-feira\")\n",
    "elif dia == 3:\n",
    "    print(\"É terça-feira\")\n",
    "elif dia == 4:\n",
    "    print(\"É quarta-feira\")\n",
    "elif dia == 5:\n",
    "    print(\"É quinta-feira\")\n",
    "elif dia == 6:\n",
    "    print(\"É sexta-feira\")\n",
    "elif dia == 7:\n",
    "    print(\"É sábado\")\n",
    "else:\n",
    "    print(\"valor inválido\")"
   ]
  },
  {
   "cell_type": "code",
   "execution_count": null,
   "metadata": {},
   "outputs": [],
   "source": [
    "aluno = input(\"nome do aluno? \")\n",
    "nota1 = float(input(\"imforme a primeira nota: \"))\n",
    "nota2 = float(input(\"imforme a segunda nota: \"))\n",
    "if nota1 < 0 or nota2 < 0:\n",
    " print(\"não é uma nota\")\n",
    "else:\n",
    "    media = (nota1 + nota2) / 2\n",
    "    if (media <= 10) and (media >= 9):\n",
    "        conceito = (\"A\")\n",
    "    elif (media < 9) and (media >= 7.5):\n",
    "        conceito = (\"B\")\n",
    "    elif (media < 7.5) and (media >= 6):\n",
    "        conceito = (\"C\")\n",
    "    elif (media < 6) and (media >= 4):\n",
    "        conceito = (\"D\")\n",
    "    else:\n",
    "        conceito = (\"E\")\n",
    "\n",
    "    if conceito == (\"A\" or \"B\" or \"C\"):\n",
    "        print(\"as notas de\", aluno, \"foram\", nota1, \"e\", nota2, \"ficando com a média\", media, \"ele é considerado um aluno\", conceito, \"está APROVADO\") \n",
    "    elif conceito == (\"D\" or\"E\"):\n",
    "        print(\"as notas de\", aluno, \"foram\", nota1, \"e\", nota2, \"ficando com a média\", media, \"ele é considerado um aluno\", conceito, \"está REPROVADO\")"
   ]
  },
  {
   "cell_type": "code",
   "execution_count": 21,
   "metadata": {},
   "outputs": [
    {
     "name": "stdout",
     "output_type": "stream",
     "text": [
      "não é um triângulo\n"
     ]
    }
   ],
   "source": [
    "lado1 = float(input(\"digite o valor do lado do triângulo: \"))\n",
    "lado2 = float(input(\"digite o valor do segundo lado do triângulo: \"))\n",
    "lado3 = float(input(\"digite o valor do terceiro lado do triângulo: \"))\n",
    "if (lado1 + lado2 <= lado3) or (lado2 + lado3 <= lado1) or (lado1 + lado3 <= lado2):\n",
    "    print(\"não é um triângulo\")\n",
    "else:\n",
    "    if lado1 == lado2 == lado3:\n",
    "        print(\"é um triângulo equilátero\")\n",
    "    elif (lado3 == lado1 != lado2) or (lado1 == lado2 != lado3) or (lado2 == lado3 != lado1):\n",
    "        print(\"é um triângulo isósceles\")\n",
    "    elif lado1 != lado2 != lado3:\n",
    "        print(\"é um triângulo escaleno\")"
   ]
  },
  {
   "cell_type": "code",
   "execution_count": 17,
   "metadata": {},
   "outputs": [
    {
     "name": "stdout",
     "output_type": "stream",
     "text": [
      "Digite os coeficientes da equação ax^2 + bx + c:\n",
      "a equação não possui raizes reais\n",
      "0.75 -2.25\n"
     ]
    }
   ],
   "source": [
    "import math\n",
    "print(\"Digite os coeficientes da equação ax^2 + bx + c:\")\n",
    "a = float(input(\"digite um valor pra a: \"))\n",
    "if a == 0:\n",
    "    print(\"não é uma equação do segundo grau\")\n",
    "else:\n",
    "    b = float(input(\"digite um valor pra b: \"))\n",
    "    c = float(input(\"digite um valor pra c: \"))\n",
    "\n",
    "    delta = b**2 - 4*a*c\n",
    "    if delta < 0:\n",
    "     print(\"a equação não possui raizes reais\")\n",
    "    else:\n",
    "        delta1 = math.sqrt(delta)\n",
    "    x1 = (-b + delta1) / (2*a)\n",
    "    x2 = (-b - delta1) / (2*a)\n",
    "    print(\"o primeiro valor é\", x1, \"e o segundo\", x2)"
   ]
  },
  {
   "cell_type": "code",
   "execution_count": null,
   "metadata": {},
   "outputs": [],
   "source": [
    "import math\n",
    "print(\"Digite os coeficientes da equação ax^2 + bx + c:\")\n",
    "a = float(input(\"digite um valor pra a: \"))\n",
    "if a == 0:\n",
    "    print(\"não é uma equação do segundo grau\")\n",
    "else:\n",
    "    b = float(input(\"digite um valor pra b: \"))\n",
    "    c = float(input(\"digite um valor pra c: \"))\n",
    "\n",
    "    delta = b**2 - 4*a*c\n",
    "    if delta < 0:\n",
    "     print(\"a equação não possui raizes reais\")\n",
    "    elif delta == 0:\n",
    "       x = -b / (2*a)\n",
    "       print(\"a equação tem só uma raiz real que é\", x)\n",
    "    \n",
    "    else:\n",
    "        delta1 = math.sqrt(delta)\n",
    "    x1 = (-b + delta1) / (2*a)\n",
    "    x2 = (-b - delta1) / (2*a)\n",
    "    print(\"o primeiro valor é\", x1, \"e o segundo\", x2)"
   ]
  },
  {
   "cell_type": "code",
   "execution_count": 8,
   "metadata": {},
   "outputs": [
    {
     "name": "stdout",
     "output_type": "stream",
     "text": [
      "2020 é um ano bissexto\n"
     ]
    }
   ],
   "source": [
    "ano = int(input(\"digite um ano: \"))\n",
    "ano1 = ano % 4\n",
    "if ano1 == 0:\n",
    "    print(ano,\"é um ano bissexto\")\n",
    "else:\n",
    "    print(ano, \"não é um ano bissexto\")"
   ]
  },
  {
   "cell_type": "code",
   "execution_count": null,
   "metadata": {},
   "outputs": [],
   "source": [
    "aluno = input(\"nome do aluno? \")\n",
    "nota1 = float(input(\"imforme a primeira nota: \"))\n",
    "nota2 = float(input(\"imforme a segunda nota: \"))\n",
    "nota3 = float(input(\"imforme a terceira nota: \"))\n",
    "if nota1 < 0 or nota2 < 0 or nota3 < 0:\n",
    "    print(\"não é uma nota\")\n",
    "else:\n",
    "    media = (nota1 + nota2 + nota3 ) / 3\n",
    "    if media == 10:\n",
    "        print(\"a média de\", aluno, \"foi\", media, \"ele foi aprovado com distinção\")\n",
    "    else:\n",
    "        if media >= 7:\n",
    "            print(\"a média de\", aluno, \"foi\", media, \"ele está aprovado\")\n",
    "        else:\n",
    "            print(\"a média de\", aluno, \"foi\", media, \"ele está reprovado\")"
   ]
  },
  {
   "cell_type": "code",
   "execution_count": 22,
   "metadata": {},
   "outputs": [
    {
     "name": "stdout",
     "output_type": "stream",
     "text": [
      "caixa---mínimo de 10 e máximo de 600 no saque\n",
      "são 1 notas de 100\n",
      "são 1 notas de 50\n",
      "são 4 notas de 10\n",
      "são 1 notas de 5\n",
      "são 3 notas de 1\n"
     ]
    }
   ],
   "source": [
    "print(\"caixa---mínimo de 10 e máximo de 600 no saque\")\n",
    "money = int(input(\"quanto vc quer sacar do caixa? \"))\n",
    "if (money < 10) or (money > 600):\n",
    "    print(\"não pode sacar\")\n",
    "else:\n",
    "    money_1 = money // 100\n",
    "    money1 = money % 100\n",
    "    money_2 = money1 // 50\n",
    "    money2 = money1 % 50\n",
    "    money_3 = money2 // 10\n",
    "    money3 = money2 % 10\n",
    "    money_4 = money3 // 5\n",
    "    money4 = money3 % 5\n",
    "    money_5 = money4 // 1\n",
    "    money5 = money4 % 1\n",
    "    print(\"é\", money_1, \"notas de 100\")\n",
    "    print(\"é\", money_2, \"notas de 50\")\n",
    "    print(\"é\", money_3, \"notas de 10\")\n",
    "    print(\"é\", money_4, \"notas de 5\")\n",
    "    print(\"é\", money_5, \"notas de 1\")"
   ]
  },
  {
   "cell_type": "code",
   "execution_count": 52,
   "metadata": {},
   "outputs": [
    {
     "name": "stdout",
     "output_type": "stream",
     "text": [
      "3 é impar\n"
     ]
    }
   ],
   "source": [
    "num = int(input(\"digite um número: \"))\n",
    "if num == 0:\n",
    "    print(num, \"é neutro\")\n",
    "elif num % 2 == 0:\n",
    "    print(num, \"é par\")\n",
    "else:\n",
    "    print(num, \"é impar\")"
   ]
  },
  {
   "cell_type": "code",
   "execution_count": 9,
   "metadata": {},
   "outputs": [
    {
     "name": "stdout",
     "output_type": "stream",
     "text": [
      "10.0\n",
      "Esse número é par\n",
      "é positivo\n",
      "é inteiro\n"
     ]
    }
   ],
   "source": [
    "num1 = float(input(\"digite um número: \"))\n",
    "num2 = float(input(\"digite outro número: \"))\n",
    "esc = int(input(\"qual operação vc quer fazer? (divisão-1) (mutiplicação-2) (soma-3) ou (subtração-4)\"))\n",
    "if esc == 1:\n",
    "  num3 = num1 / num2\n",
    "elif esc == 2:\n",
    "  num3 = num1 * num2\n",
    "elif esc == 3:\n",
    "  num3 = num1 + num2\n",
    "elif esc == 4:\n",
    " num3 = num1 - num2\n",
    "else:\n",
    "    print(\"escolha uma operação!\")\n",
    "num3_ = round(num3, 1)\n",
    "print(num3_)\n",
    "if num3_ % 2 == 0:\n",
    "  print(\"Esse número é par\")\n",
    "else:\n",
    "  print(\"Esse número é impar\")\n",
    "if num3_< 0:\n",
    "  print(\"é negativo\")\n",
    "elif num3_ == 0:\n",
    "  print(\"é neutro\")\n",
    "else:\n",
    "  print(\"é positivo\")\n",
    "if num3_.is_integer():\n",
    "  print(\"é inteiro\")\n",
    "else:\n",
    "  print(\"é decimal\")"
   ]
  },
  {
   "cell_type": "code",
   "execution_count": 40,
   "metadata": {},
   "outputs": [
    {
     "name": "stdout",
     "output_type": "stream",
     "text": [
      "responda com sim ou não\n",
      "INOCENTE\n"
     ]
    }
   ],
   "source": [
    "print(\"responda com sim ou não\")\n",
    "resp1 = input(\"Telefonou para a vítima? \")\n",
    "resp2 = input(\"Esteve no local do crime? \")\n",
    "resp3 = input(\"Mora perto da vítima? \")\n",
    "resp4 = input(\"Devia para a vítima? \")\n",
    "resp5 = input(\"Já trabalhou com a vítima? \")\n",
    "culpa = 0\n",
    "r1 = resp1.upper()\n",
    "r2 = resp2.upper()\n",
    "r3 = resp3.upper()\n",
    "r4 = resp4.upper()\n",
    "r5 = resp5.upper()\n",
    "if r1 == (\"SIM\"):\n",
    " culpa = + 1\n",
    "if r2 == (\"SIM\"):\n",
    " culpa = culpa + 1\n",
    "if r3 == (\"SIM\"):\n",
    " culpa = culpa + 1\n",
    "if r4 == (\"SIM\"):\n",
    " culpa = culpa + 1\n",
    "if r5 == (\"SIM\"):\n",
    " culpa = culpa + 1\n",
    "if (culpa > 0) and (culpa <= 2):\n",
    " print(\"SUSPEITA\")\n",
    "elif (culpa > 2) and (culpa <= 4):\n",
    " print(\"CÚMPLICE\")\n",
    "elif culpa == 5:\n",
    " print(\"ASSASINO\")\n",
    "else:\n",
    " print(\"INOCENTE\")\n",
    "\n",
    "\n"
   ]
  },
  {
   "cell_type": "code",
   "execution_count": 4,
   "metadata": {},
   "outputs": [
    {
     "name": "stdout",
     "output_type": "stream",
     "text": [
      "A-álcool G-gasolina\n",
      "vc vai pagar 36.86 por 20.0 litros de álcool\n"
     ]
    }
   ],
   "source": [
    "print(\"A-álcool G-gasolina\")\n",
    "esc = input(\"você quer colocar gasolina ou álcool? \")\n",
    "litro = float(input(\"quantos litros vc quer? \"))\n",
    "esc_ = esc.upper()\n",
    "if esc == (\"A\"):\n",
    "   alcool = litro * 1.90\n",
    "   if litro > 20:\n",
    "     desconto = alcool * 0.05\n",
    "     resul = alcool - desconto\n",
    "     print(\"vc vai pagar\", resul, \"por\", litro, \"litros de álcool\")\n",
    "   else:\n",
    "      desconto = alcool * 0.03\n",
    "      resul = alcool - desconto\n",
    "      print(\"vc vai pagar\", resul, \"por\", litro, \"litros de álcool\")\n",
    "elif esc == (\"G\"):\n",
    "   gasolina = litro *2.50\n",
    "   if litro > 20:\n",
    "     desconto = gasolina * 0.06\n",
    "     resul = gasolina - desconto\n",
    "     print(\"vc vai pagar\", resul, \"por\", litro, \"litros de gasolina\")\n",
    "   else:\n",
    "      desconto = gasolina * 0.04\n",
    "      resul = gasolina - desconto\n",
    "      print(\"vc vai pagar\", resul, \"por\", litro, \"litros de gasolina\")\n",
    "else:\n",
    "   print(\"erro de escolha\")"
   ]
  },
  {
   "cell_type": "code",
   "execution_count": null,
   "metadata": {},
   "outputs": [],
   "source": [
    "kgmorangos = float(input(\"Digite a quantidade (em Kg) de morangos: \"))\n",
    "kgmacas = float(input(\"Digite a quantidade (em Kg) de maçãs: \"))\n",
    "if kgmacas < 0 or kgmorangos < 0:\n",
    "       print(\"não é possivel continuar\")\n",
    "if kgmacas == 0 and kgmorangos == 0:\n",
    "       print(\"não é possivel continuar\")\n",
    "else:\n",
    "        if kgmorangos > 5:\n",
    "                valormorangos = kgmorangos * 2.20\n",
    "        else:\n",
    "                valormorangos = kgmorangos * 2.50\n",
    "        if kgmacas > 5:\n",
    "                valormacas = kgmacas * 1.50\n",
    "        else: \n",
    "                valormacas = kgmacas * 1.80\n",
    "\n",
    "        total_sem_desconto = valormacas + valormorangos\n",
    "\n",
    "        if (kgmorangos + kgmacas) > 8 or total_sem_desconto > 25:\n",
    "                desconto = 0.10 * total_sem_desconto\n",
    "                pagar = total_sem_desconto - desconto\n",
    "        else:\n",
    "                pagar = total_sem_desconto\n",
    "\n",
    "\n",
    "        print(\"O valor a ser pago pelo cliente é R$\", pagar)"
   ]
  },
  {
   "cell_type": "code",
   "execution_count": 10,
   "metadata": {},
   "outputs": [
    {
     "name": "stdout",
     "output_type": "stream",
     "text": [
      "juvenil B\n"
     ]
    }
   ],
   "source": [
    "idade = int(input(\"quantos anos tem o nadador? \"))\n",
    "if idade <= 0:\n",
    "    print(\"ele ainda não nasceu\")\n",
    "else:\n",
    "    if idade <= 4:\n",
    "        print(\"ele ainda não pode participar de nenhuma categoria\")\n",
    "    elif (idade > 4) and (idade <= 7):\n",
    "        print(\"infantil A\")\n",
    "    elif (idade > 7) and (idade <= 10):\n",
    "        print(\"infantil B\")\n",
    "    elif (idade > 10) and (idade <= 13):\n",
    "        print(\"juvenil A\")\n",
    "    elif (idade > 13) and (idade <= 17):\n",
    "        print(\"juvenil B\")\n",
    "    else: \n",
    "        print(\"é adulto\")"
   ]
  },
  {
   "cell_type": "code",
   "execution_count": 74,
   "metadata": {},
   "outputs": [
    {
     "name": "stdout",
     "output_type": "stream",
     "text": [
      "sexo inválido\n"
     ]
    }
   ],
   "source": [
    "sexo = input(\"é feminino ou masculino? \")\n",
    "altura = float(input(\"digite a altura em metros: \"))\n",
    "sexo_ = sexo.upper()\n",
    "if sexo_ == \"MASCULINO\":\n",
    " peso_ideal = (72.7 * altura)-58\n",
    " pesoideal = round(peso_ideal, 0)\n",
    " print(pesoideal)\n",
    "elif sexo_ == \"FEMININO\":\n",
    " peso_ideal = (62.1* altura)-44.7\n",
    " pesoideal = round(peso_ideal, 0)\n",
    " print(peso_ideal)\n",
    "else:\n",
    " print(\"sexo inválido\")"
   ]
  },
  {
   "cell_type": "markdown",
   "metadata": {},
   "source": [
    "LISTA 3"
   ]
  },
  {
   "cell_type": "code",
   "execution_count": 4,
   "metadata": {},
   "outputs": [
    {
     "name": "stdout",
     "output_type": "stream",
     "text": [
      "ele está reprovado\n",
      "ele está reprovado\n",
      "ele está reprovado\n"
     ]
    }
   ],
   "source": [
    "for i in range(30):\n",
    "    nota1 = float(input(\"digite a primeira nota: \"))\n",
    "    nota2 = float(input(\"digite a segunda nota: \"))\n",
    "    if nota1 < 0 or nota2 < 0:\n",
    "        print(\"não é uma nota\")\n",
    "    else:\n",
    "        media = (nota1 + nota2) / 2\n",
    "        if media >= 7:\n",
    "            print(\"ele está aprovado\")\n",
    "        elif media >= 5 and media < 7:\n",
    "            print(\"ele está em recuperação\")\n",
    "        else:\n",
    "            print(\"ele está reprovado\")"
   ]
  },
  {
   "cell_type": "code",
   "execution_count": 5,
   "metadata": {},
   "outputs": [
    {
     "name": "stdout",
     "output_type": "stream",
     "text": [
      "-100.0 100.0\n"
     ]
    }
   ],
   "source": [
    "num_menor = 0\n",
    "num_maior = 0\n",
    "for i in range(10):\n",
    "    num = float(input(\"digite um número: \"))\n",
    "    if num > num_maior:\n",
    "        num_maior = num\n",
    "    elif num < num_menor:\n",
    "        num_menor = num\n",
    "print(\"o menor número foi\", num_menor, \"o maior número foi\", num_maior)\n",
    "\n"
   ]
  },
  {
   "cell_type": "code",
   "execution_count": 35,
   "metadata": {},
   "outputs": [
    {
     "name": "stdout",
     "output_type": "stream",
     "text": [
      "os fatorias de 5 são :\n",
      "20\n",
      "60\n",
      "120\n"
     ]
    }
   ],
   "source": [
    "num = int(input(\"digite um número: \"))\n",
    "if num < 0:\n",
    "  print(\"não é possivel continuar\")\n",
    "else:\n",
    "  print(\"os fatorias de\", num, \"são :\")\n",
    "  for i in range (num-1, 0, -1):\n",
    "    num = num * i\n",
    "    print(num)"
   ]
  },
  {
   "cell_type": "code",
   "execution_count": 73,
   "metadata": {},
   "outputs": [
    {
     "name": "stdout",
     "output_type": "stream",
     "text": [
      "o resultado é 6.0\n"
     ]
    }
   ],
   "source": [
    "resul = 0\n",
    "for i in range(3):\n",
    "    num = float(input(\"digite um número positivo menor que 1000: \"))\n",
    "    if num < 0:\n",
    "        print(num, \"não é positivo\")\n",
    "    else:\n",
    "         if num > 1000:\n",
    "            print(num, \"é maior que 1000\")\n",
    "         else:\n",
    "             resul += num\n",
    "print(\"o resultado é\", resul)\n"
   ]
  },
  {
   "cell_type": "code",
   "execution_count": 69,
   "metadata": {},
   "outputs": [
    {
     "name": "stdout",
     "output_type": "stream",
     "text": [
      "a área do quadrado é 4.0\n",
      "a área do quadrado é 4.0\n"
     ]
    }
   ],
   "source": [
    "quadrados = int(input(\"quantos quadrados você quer saber a área? \"))\n",
    "if quadrados < 0:\n",
    "    print(\"não é possivel continuar\")\n",
    "else:\n",
    "    for i in range(quadrados):\n",
    "        lado1 = float(input(\"qual é o tamanho do primeiro lado: \"))\n",
    "        lado2 = float(input(\"qual é o tamanho do segundo lado: \"))\n",
    "        if lado1 < 0 or lado2 < 0:\n",
    "            print(\"não é um quadrado\")\n",
    "        else:\n",
    "            área = lado1 * lado2\n",
    "            print(\"a área do quadrado é\", área)\n"
   ]
  },
  {
   "cell_type": "code",
   "execution_count": 93,
   "metadata": {},
   "outputs": [
    {
     "name": "stdout",
     "output_type": "stream",
     "text": [
      "o resultado com o expoente positivo é 4.0\n"
     ]
    }
   ],
   "source": [
    "A = float(input(\"digite um valor: \"))\n",
    "B = int(input(\"digite o expoente: \"))\n",
    "resul = A\n",
    "if B == 0:\n",
    " print(\"o resultado é 1\")\n",
    "else:\n",
    "  if B > 0:\n",
    "    for i in range(B, 1, -1):\n",
    "      resul = resul * A\n",
    "    print(\"o resultado com o expoente positivo é\", resul)\n",
    "  else:\n",
    "    B = B * -1\n",
    "    resul = B / A\n",
    "    print(\"o resultado com o expoente negativo é\",resul)"
   ]
  },
  {
   "cell_type": "code",
   "execution_count": 66,
   "metadata": {},
   "outputs": [
    {
     "name": "stdout",
     "output_type": "stream",
     "text": [
      "1.5\n"
     ]
    }
   ],
   "source": [
    "h = 1\n",
    "p = 2\n",
    "n = int(input(\"quantas vezes você quer adicionar no H?\"))\n",
    "if n < 0:\n",
    "  print(\"não é possivel continuar\")\n",
    "else:\n",
    "  for i in range(n-1):\n",
    "    h += 1/p\n",
    "    p += 1\n",
    "print(h)"
   ]
  },
  {
   "cell_type": "code",
   "execution_count": 64,
   "metadata": {},
   "outputs": [
    {
     "name": "stdout",
     "output_type": "stream",
     "text": [
      "a soma deu 5250.0\n"
     ]
    }
   ],
   "source": [
    "z = 0\n",
    "y = 0\n",
    "x = float(input(\"digite um número: \"))\n",
    "for i in range(100):\n",
    "    z += 1\n",
    "    y += x + z\n",
    "\n",
    "print(\"a soma deu\", y)"
   ]
  },
  {
   "cell_type": "code",
   "execution_count": 90,
   "metadata": {},
   "outputs": [
    {
     "name": "stdout",
     "output_type": "stream",
     "text": [
      "a soma das operações foi 4362.702954344412\n"
     ]
    }
   ],
   "source": [
    "z = 0\n",
    "y = 1000\n",
    "x = 1\n",
    "for i in range(50):\n",
    "    z += y / x\n",
    "    y -= 3\n",
    "    x += 1\n",
    "print(\"a soma das operações foi\", z)\n",
    "\n",
    "\n"
   ]
  },
  {
   "cell_type": "code",
   "execution_count": 52,
   "metadata": {},
   "outputs": [
    {
     "name": "stdout",
     "output_type": "stream",
     "text": [
      " o resultado do arco tangente é 0.79\n"
     ]
    }
   ],
   "source": [
    "par = 0\n",
    "impar = 0\n",
    "s = 0\n",
    "expo = 3\n",
    "y = 3\n",
    "x = int(input(\"digite um valor: \"))\n",
    "for i in range(50):\n",
    "  arco = (x ** expo) / y\n",
    "  expo += 2\n",
    "  y += 2\n",
    "  s += 1\n",
    "  if s % 2 == 0:\n",
    "     par += arco\n",
    "  else:\n",
    "     impar += arco\n",
    "resul = x - (impar - par)\n",
    "resul_ = round(resul, 3)\n",
    "print(\" o resultado do arco tangente é\", resul_)"
   ]
  },
  {
   "cell_type": "code",
   "execution_count": 49,
   "metadata": {},
   "outputs": [
    {
     "name": "stdout",
     "output_type": "stream",
     "text": [
      "1.6666666666666665\n"
     ]
    }
   ],
   "source": [
    "x = 1\n",
    "resul = 0 \n",
    "y = 1\n",
    "n = int(input(\"digite o número de vezes q você deseja repetir a série: \"))\n",
    "for i in range(n):\n",
    "  s = x/y\n",
    "  x += 1\n",
    "  y += 2\n",
    "  resul += s\n",
    "print(resul)\n"
   ]
  },
  {
   "cell_type": "code",
   "execution_count": 101,
   "metadata": {},
   "outputs": [
    {
     "name": "stdout",
     "output_type": "stream",
     "text": [
      "a media das idades que responderam otimo foi 0\n",
      "a quantidade de pessoas q responderam regular foi 0\n",
      "A porcentagem de pessoas que responderam bom entre todos os espectadores analisados foi 100.0\n"
     ]
    }
   ],
   "source": [
    "todos = 0\n",
    "media = 0\n",
    "total = 0\n",
    "quantidade1 = 0\n",
    "quantidade3 = 0\n",
    "quantidade2 = 0\n",
    "porcentagem = 0\n",
    "for i in range(15):\n",
    "    gosto =int(input(\"vc gostou do filme? otimo-3 bom-2 regular-1 \"))\n",
    "    if gosto != 1 and gosto != 2 and gosto != 3:\n",
    "        print(\"coloque sua opinião\")\n",
    "    else:\n",
    "        idade = int(input(\"você tem quantos anos? \"))\n",
    "        if idade < 0:\n",
    "            print(\"não existe essa pessoa\")\n",
    "        else:  \n",
    "            todos += 1      \n",
    "            if gosto == 1:\n",
    "                quantidade1 += 1\n",
    "            elif gosto == 3:\n",
    "                quantidade3 += 1\n",
    "                total += idade\n",
    "                media = total / quantidade3\n",
    "            else:\n",
    "                quantidade2 += 1\n",
    "                porcentagem = quantidade2 / todos * 100\n",
    "print(\"a media das idades que responderam otimo foi\", media)\n",
    "print(\"a quantidade de pessoas q responderam regular foi\", quantidade1)\n",
    "print(\"A porcentagem de pessoas que responderam bom entre todos os espectadores analisados foi\", porcentagem)"
   ]
  },
  {
   "cell_type": "code",
   "execution_count": 114,
   "metadata": {},
   "outputs": [
    {
     "name": "stdout",
     "output_type": "stream",
     "text": [
      "2\n",
      "3\n",
      "4\n",
      "5\n",
      "6\n",
      "7\n",
      "8\n",
      "9\n"
     ]
    }
   ],
   "source": [
    "num1 = int(input(\"digite um valor:\"))\n",
    "num2 = int(input(\"digite outro valor:\"))\n",
    "if num1 < num2:\n",
    "    for i in range(num1+1, num2):\n",
    "     print(\"a sequencia fica:\")\n",
    "     print(i)\n",
    "if num1 > num2:\n",
    "   for i in range(num2+1, num1):\n",
    "      print(\"a sequencia fica:\")\n",
    "      print(i)"
   ]
  },
  {
   "cell_type": "code",
   "execution_count": 1,
   "metadata": {},
   "outputs": [
    {
     "name": "stdout",
     "output_type": "stream",
     "text": [
      "TABUADA DE 8\n",
      "8 X 1 = 8\n",
      "8 X 2 = 16\n",
      "8 X 3 = 24\n",
      "8 X 4 = 32\n",
      "8 X 5 = 40\n",
      "8 X 6 = 48\n",
      "8 X 7 = 56\n",
      "8 X 8 = 64\n",
      "8 X 9 = 72\n",
      "8 X 10 = 80\n"
     ]
    }
   ],
   "source": [
    "numero = int(input(\"Digite um número para ver a tabuada (entre 1 e 10): \"))\n",
    "print(\"TABUADA DE\", numero)\n",
    "if numero < 1 or numero > 10:\n",
    "    print(\"Por favor, digite um número entre 1 e 10.\")\n",
    "else:\n",
    "    for i in range(1, 11):\n",
    "        resultado = numero * i\n",
    "        print(numero, \"X\", i, \"=\", resultado)\n",
    "\n",
    "\n",
    "\n",
    "    "
   ]
  },
  {
   "cell_type": "code",
   "execution_count": 100,
   "metadata": {},
   "outputs": [
    {
     "name": "stdout",
     "output_type": "stream",
     "text": [
      "4 não é primo\n"
     ]
    }
   ],
   "source": [
    "num = int(input(\"digite um valor: \"))\n",
    "if num == 0 or num == 1:\n",
    "    print(num, \"não pode ser primo\")          \n",
    "else:\n",
    "    if num < 0:\n",
    "        print(num, \"negativo não pode ser primo\")\n",
    "    else:\n",
    "        if num == 2:\n",
    "            print(num, \"é primo\")\n",
    "        for i in range(2, num):\n",
    "            if num % i == 0:\n",
    "                print(num, \"não é primo\")\n",
    "                break\n",
    "            else:\n",
    "                print(num, \"é primo\")\n",
    "                break\n",
    "            "
   ]
  },
  {
   "cell_type": "code",
   "execution_count": 110,
   "metadata": {},
   "outputs": [
    {
     "name": "stdout",
     "output_type": "stream",
     "text": [
      "essa turma é idosa\n"
     ]
    }
   ],
   "source": [
    "total = 0\n",
    "media = 0\n",
    "n = int(input(\"digite quantas pessoas você quer saber a idade\"))\n",
    "if n <= 0:\n",
    "    print(\"não é possivel continuar o programa\")\n",
    "else:\n",
    "    for i in range(n):\n",
    "        idade = int(input('digite sua idade: '))\n",
    "        if idade <= 0:\n",
    "            print(\"essa pessoa não existe\")\n",
    "        else:\n",
    "            total += idade\n",
    "            media = total / n\n",
    "    if media <= 25:\n",
    "        print(\"essa turma é jovem\")\n",
    "    elif media >= 26 and media <= 60:\n",
    "        print(\"essa turma é adulta\")\n",
    "    else:\n",
    "        print(\"essa turma é idosa\")"
   ]
  },
  {
   "cell_type": "code",
   "execution_count": 122,
   "metadata": {},
   "outputs": [
    {
     "name": "stdout",
     "output_type": "stream",
     "text": [
      "5.0\n",
      "5.0\n",
      "10.0\n",
      "5.0\n",
      "15.0\n",
      "10.0\n",
      "25.0\n"
     ]
    }
   ],
   "source": [
    "proximo = 0\n",
    "anterior = float(input('digite o primeiro termo:'))\n",
    "atual = float(input('digite o segundo termo:'))\n",
    "if anterior and atual == 0:\n",
    "    print(\"não é possivel continuar\")\n",
    "else:\n",
    "    n = int(input('digite o quantas números você quer mostrar:'))\n",
    "    if n <= 0:\n",
    "        print(\"coloque um número maior que 0\")\n",
    "    else:\n",
    "        print(anterior)\n",
    "        print(atual)\n",
    "        for i in range(n):\n",
    "            if i % 2 == 0:\n",
    "               proximo = atual + anterior\n",
    "               anterior = atual\n",
    "               atual = proximo\n",
    "               print(atual)\n",
    "            else:\n",
    "               proximo = atual - anterior\n",
    "               anterior = atual\n",
    "               atual = proximo\n",
    "               print(atual)\n",
    "               \n",
    "               "
   ]
  },
  {
   "cell_type": "code",
   "execution_count": 146,
   "metadata": {},
   "outputs": [
    {
     "name": "stdout",
     "output_type": "stream",
     "text": [
      "a média das temperaturas ficou 26.4\n",
      "a maior temperatura foi 50.0\n",
      "a menor temperatura foi 2.0\n"
     ]
    }
   ],
   "source": [
    "maiortemp = 0\n",
    "totaltemp = 0\n",
    "tempregis = 0\n",
    "media = 0\n",
    "temp = float(input(\"digite uma temperatura:\"))\n",
    "menortemp = temp\n",
    "while temp > -273.15 and temp < 56.7:\n",
    "    totaltemp += temp\n",
    "    tempregis += 1\n",
    "    if temp < menortemp :\n",
    "       menortemp = temp\n",
    "    elif temp > maiortemp:\n",
    "        maiortemp = temp\n",
    "   \n",
    "    temp = float(input(\"digite uma temperatura:\"))\n",
    "    \n",
    "media = totaltemp / tempregis\n",
    "print(\"a média das temperaturas ficou\", media)\n",
    "print(\"a maior temperatura foi\", maiortemp)\n",
    "print(\"a menor temperatura foi\", menortemp)"
   ]
  },
  {
   "cell_type": "code",
   "execution_count": 49,
   "metadata": {},
   "outputs": [
    {
     "name": "stdout",
     "output_type": "stream",
     "text": [
      "o valor da dívida é 1250.0 dividiu em 12 vai ter pegar 104.16666666666667 por més\n"
     ]
    }
   ],
   "source": [
    "val = 0.05\n",
    "parcela = 0\n",
    "valorjuros = 0\n",
    "j = 0\n",
    "valorj = 0\n",
    "valor = float(input(\"digite o valor  do prouto: \"))\n",
    "qpar = int(input(\"quantas pareclas você quer dividir\"))\n",
    "if qpar <= 0 or valor <= 0:\n",
    "    print(\"não é possivel continuar\")\n",
    "else: \n",
    "    if par < 3:\n",
    "        parcela = valor / qpar\n",
    "        print(\"o valor da dívida é\", valor, \"dividiu em\", qpar, \"vai ter pegar\", parcela, \"por més\")\n",
    "    else:\n",
    "        for i in range(1 ,qpar, 3):\n",
    "            j = qpar // 3\n",
    "    val +=  j * 0.05\n",
    "    valor += valor * val\n",
    "    parcela = valor / qpar\n",
    "    print(\"o valor da dívida é\", valor, \"dividiu em\", qpar, \"vai ter pegar\", parcela, \"por més\")\n",
    "        "
   ]
  },
  {
   "cell_type": "code",
   "execution_count": 57,
   "metadata": {},
   "outputs": [
    {
     "name": "stdout",
     "output_type": "stream",
     "text": [
      "o empragdo mais velho é o de número 4 trabalhando 5 meses\n",
      "o empragdo mais novo é o de número 0 trabalhando 3 meses\n"
     ]
    }
   ],
   "source": [
    "empregado_antigo = 0\n",
    "empregado_recente = 0\n",
    "antigo = 0\n",
    "empregado = int(input(\"coloque o número q represnta o funcionário: \"))\n",
    "mes = int(input(\"digite quantos meses o empregado trabalha na empresa: \"))\n",
    "if mes <= 0:\n",
    "    print(\"não é possivel continuar o programa\")\n",
    "else:\n",
    "    while mes != antigo and mes != recente :\n",
    "        recente = mes\n",
    "        if antigo < mes:\n",
    "            antigo = mes\n",
    "            empregado_antigo = empregado\n",
    "        if mes < recente:\n",
    "            recente = mes\n",
    "            empregado_recente = empregado\n",
    "        empregado = int(input(\"coloque o número q represnta o funcionário:\"))\n",
    "        mes = int(input(\"digite quantos meses o empregado trabalha na empresa: \"))\n",
    "        if mes <= 0:\n",
    "            print(\"encerrando  o programa\")\n",
    "            break\n",
    "\n",
    "print(\"o empragdo mais velho é o de número\", empregado_antigo, \"trabalhando\", antigo, \"meses\" )\n",
    "print(\"o empragdo mais novo é o de número\", empregado_recente, \"trabalhando\", recente, \"meses\" )\n",
    "\n"
   ]
  }
 ],
 "metadata": {
  "kernelspec": {
   "display_name": "Python 3",
   "language": "python",
   "name": "python3"
  },
  "language_info": {
   "codemirror_mode": {
    "name": "ipython",
    "version": 3
   },
   "file_extension": ".py",
   "mimetype": "text/x-python",
   "name": "python",
   "nbconvert_exporter": "python",
   "pygments_lexer": "ipython3",
   "version": "3.12.2"
  }
 },
 "nbformat": 4,
 "nbformat_minor": 2
}
